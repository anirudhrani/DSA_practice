{
 "cells": [
  {
   "cell_type": "markdown",
   "id": "ed1ab05d-56b6-45f1-a1da-31fb42f8d1c1",
   "metadata": {},
   "source": [
    "# Week 1"
   ]
  },
  {
   "cell_type": "code",
   "execution_count": 36,
   "id": "d6729601-711a-422e-b694-17f2826b2301",
   "metadata": {},
   "outputs": [
    {
     "name": "stdout",
     "output_type": "stream",
     "text": [
      "8\n"
     ]
    }
   ],
   "source": [
    "def sqrt(inp):\n",
    "    \n",
    "    right =inp\n",
    "    left= 0\n",
    "    result= 0\n",
    "    while (left <= right):\n",
    "        mid= (left+right)//2\n",
    "        \n",
    "        if mid*mid== inp :\n",
    "            result= mid\n",
    "            break\n",
    "            \n",
    "        elif mid*mid < inp:\n",
    "            left= mid+1\n",
    "            result= mid\n",
    "           \n",
    "            \n",
    "        else:\n",
    "            right= mid -1   \n",
    "            \n",
    "\n",
    "    return result\n",
    "\n",
    "\n",
    "\n",
    "\n",
    "# Driver Code\n",
    "inp= 64\n",
    "print(sqrt(inp))"
   ]
  },
  {
   "cell_type": "markdown",
   "id": "af64bdc2-0516-41d8-8a9f-8627090fd3ab",
   "metadata": {},
   "source": [
    "# First Bad Version"
   ]
  },
  {
   "cell_type": "code",
   "execution_count": 37,
   "id": "d0de2bdc-f2df-4677-80f3-a5c3c8c44cb8",
   "metadata": {},
   "outputs": [
    {
     "data": {
      "text/plain": [
       "5"
      ]
     },
     "execution_count": 37,
     "metadata": {},
     "output_type": "execute_result"
    }
   ],
   "source": [
    "def first_bad_version(a):\n",
    "    left= 0\n",
    "    right= len(a)-1\n",
    "    ans=0\n",
    "    \n",
    "    while left <= right:\n",
    "        mid= (left+right)//2\n",
    "        if a[mid-1] ==0 and a[mid]==1:\n",
    "            ans= mid\n",
    "            break\n",
    "        elif a[mid]==0:\n",
    "            left= mid+1\n",
    "        else:\n",
    "            right= mid-1\n",
    "        \n",
    "    return ans\n",
    "\n",
    "\n",
    "\n",
    "\n",
    "# Driver Code\n",
    "inp=[0,0,0,0,0,1]\n",
    "first_bad_version(inp)"
   ]
  },
  {
   "cell_type": "markdown",
   "id": "99d65eb8-a337-4e3b-8daf-7ac6f7a040cd",
   "metadata": {},
   "source": [
    "# Finding a perfect square"
   ]
  },
  {
   "cell_type": "code",
   "execution_count": 38,
   "id": "b43cb678-14e8-4393-bd28-03e5ff304ba5",
   "metadata": {},
   "outputs": [
    {
     "data": {
      "text/plain": [
       "True"
      ]
     },
     "execution_count": 38,
     "metadata": {},
     "output_type": "execute_result"
    }
   ],
   "source": [
    "def perfect_square(num):\n",
    "    \n",
    "    left= 0\n",
    "    right= num\n",
    "    \n",
    "    while left<= right:\n",
    "        mid= (left+right)//2\n",
    "        \n",
    "        if mid*mid== num:\n",
    "            return True\n",
    "        \n",
    "        elif mid*mid> num:\n",
    "            right= mid-1\n",
    "            \n",
    "        else:\n",
    "            left= mid+1\n",
    "    return False\n",
    "    \n",
    "            \n",
    "        \n",
    "\n",
    "# Driver Code\n",
    "num= 36\n",
    "perfect_square(num)"
   ]
  },
  {
   "cell_type": "markdown",
   "id": "05ad06cc-59c8-4c33-b0b6-b0891f5c7ec4",
   "metadata": {},
   "source": [
    "## Max Profit Stock Price"
   ]
  },
  {
   "cell_type": "code",
   "execution_count": 39,
   "id": "70e9b612-8bb8-4bfa-92c5-4077933b4ee8",
   "metadata": {},
   "outputs": [
    {
     "data": {
      "text/plain": [
       "8"
      ]
     },
     "execution_count": 39,
     "metadata": {},
     "output_type": "execute_result"
    }
   ],
   "source": [
    "def max_profit(lst):\n",
    "    \n",
    "    max_profit= 0\n",
    "    min_price= float('inf')\n",
    "    \n",
    "    for i in range(len(lst)):\n",
    "        \n",
    "        if lst[i] < min_price:\n",
    "            min_price= lst[i]\n",
    "        elif lst[i]- min_price > max_profit:\n",
    "            max_profit= lst[i] - min_price\n",
    "    return max_profit\n",
    "    \n",
    "    \n",
    "    \n",
    "    \n",
    "# Driver Code\n",
    "lst= [7,4,3,6,7,9,11]\n",
    "max_profit(lst)"
   ]
  },
  {
   "cell_type": "code",
   "execution_count": null,
   "id": "fb2a4d81-5a33-4ce3-8592-137fa9345913",
   "metadata": {},
   "outputs": [],
   "source": []
  }
 ],
 "metadata": {
  "kernelspec": {
   "display_name": "Python 3 (ipykernel)",
   "language": "python",
   "name": "python3"
  },
  "language_info": {
   "codemirror_mode": {
    "name": "ipython",
    "version": 3
   },
   "file_extension": ".py",
   "mimetype": "text/x-python",
   "name": "python",
   "nbconvert_exporter": "python",
   "pygments_lexer": "ipython3",
   "version": "3.9.12"
  }
 },
 "nbformat": 4,
 "nbformat_minor": 5
}
