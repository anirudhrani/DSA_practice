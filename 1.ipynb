{
 "cells": [
  {
   "cell_type": "markdown",
   "id": "ed1ab05d-56b6-45f1-a1da-31fb42f8d1c1",
   "metadata": {},
   "source": [
    "# Assignment 1"
   ]
  },
  {
   "cell_type": "code",
   "execution_count": 6,
   "id": "d6729601-711a-422e-b694-17f2826b2301",
   "metadata": {},
   "outputs": [
    {
     "name": "stdout",
     "output_type": "stream",
     "text": [
      "8\n"
     ]
    }
   ],
   "source": [
    "def sqrt(inp):\n",
    "    \n",
    "    right =inp\n",
    "    left= 0\n",
    "    result= 0\n",
    "    while (left <= right):\n",
    "        mid= (left+right)//2\n",
    "        \n",
    "        if mid*mid== inp :\n",
    "            result= mid\n",
    "            break\n",
    "            \n",
    "        elif mid*mid < inp:\n",
    "            left= mid+1\n",
    "            result= mid\n",
    "           \n",
    "            \n",
    "        else:\n",
    "            right= mid -1   \n",
    "            \n",
    "\n",
    "    return result\n",
    "\n",
    "\n",
    "\n",
    "\n",
    "# Driver Code\n",
    "inp= 64\n",
    "print(sqrt(inp))"
   ]
  },
  {
   "cell_type": "markdown",
   "id": "30f61733-f222-41aa-ab6d-99426eca1f80",
   "metadata": {},
   "source": [
    "The time complexity of the abocve written code is O(N)."
   ]
  },
  {
   "cell_type": "markdown",
   "id": "af64bdc2-0516-41d8-8a9f-8627090fd3ab",
   "metadata": {},
   "source": [
    "# First Bad Version"
   ]
  },
  {
   "cell_type": "code",
   "execution_count": 7,
   "id": "d0de2bdc-f2df-4677-80f3-a5c3c8c44cb8",
   "metadata": {},
   "outputs": [
    {
     "data": {
      "text/plain": [
       "5"
      ]
     },
     "execution_count": 7,
     "metadata": {},
     "output_type": "execute_result"
    }
   ],
   "source": [
    "def first_bad_version(a):\n",
    "    left= 0\n",
    "    right= len(a)-1\n",
    "    ans=0\n",
    "    \n",
    "    while left <= right:\n",
    "        mid= (left+right)//2\n",
    "        if a[mid-1] ==0 and a[mid]==1:\n",
    "            ans= mid\n",
    "            break\n",
    "        elif a[mid]==0:\n",
    "            left= mid+1\n",
    "        else:\n",
    "            right= mid-1\n",
    "        \n",
    "    return ans\n",
    "\n",
    "\n",
    "\n",
    "\n",
    "# Driver Code\n",
    "inp=[0,0,0,0,0,1]\n",
    "first_bad_version(inp)"
   ]
  },
  {
   "cell_type": "markdown",
   "id": "a55a5c2f-7af0-436b-bbb6-eb2528072d20",
   "metadata": {},
   "source": [
    "Time complexity of the code is O(n) as it has just one while loop"
   ]
  },
  {
   "cell_type": "markdown",
   "id": "99d65eb8-a337-4e3b-8daf-7ac6f7a040cd",
   "metadata": {},
   "source": [
    "# Finding a perfect square"
   ]
  },
  {
   "cell_type": "code",
   "execution_count": 31,
   "id": "b43cb678-14e8-4393-bd28-03e5ff304ba5",
   "metadata": {},
   "outputs": [
    {
     "data": {
      "text/plain": [
       "True"
      ]
     },
     "execution_count": 31,
     "metadata": {},
     "output_type": "execute_result"
    }
   ],
   "source": [
    "def perfect_square(num):\n",
    "    \n",
    "    left= 0\n",
    "    right= num\n",
    "    \n",
    "    while left<= right:\n",
    "        mid= (left+right)//2\n",
    "        \n",
    "        if mid*mid== num:\n",
    "            return True\n",
    "        \n",
    "        elif mid*mid> num:\n",
    "            right= mid-1\n",
    "            \n",
    "        else:\n",
    "            left= mid+1\n",
    "    return False\n",
    "    \n",
    "            \n",
    "        \n",
    "\n",
    "# Driver Code\n",
    "num= 36\n",
    "perfect_square(num)"
   ]
  },
  {
   "cell_type": "code",
   "execution_count": null,
   "id": "dbf01d53-2094-43e0-a8b5-7aa492514d9e",
   "metadata": {},
   "outputs": [],
   "source": []
  },
  {
   "cell_type": "code",
   "execution_count": null,
   "id": "70e9b612-8bb8-4bfa-92c5-4077933b4ee8",
   "metadata": {},
   "outputs": [],
   "source": []
  }
 ],
 "metadata": {
  "kernelspec": {
   "display_name": "Python 3 (ipykernel)",
   "language": "python",
   "name": "python3"
  },
  "language_info": {
   "codemirror_mode": {
    "name": "ipython",
    "version": 3
   },
   "file_extension": ".py",
   "mimetype": "text/x-python",
   "name": "python",
   "nbconvert_exporter": "python",
   "pygments_lexer": "ipython3",
   "version": "3.9.12"
  }
 },
 "nbformat": 4,
 "nbformat_minor": 5
}
